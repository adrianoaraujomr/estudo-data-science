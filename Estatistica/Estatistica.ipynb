{
  "nbformat": 4,
  "nbformat_minor": 0,
  "metadata": {
    "colab": {
      "name": "Estatistica.ipynb",
      "provenance": [],
      "collapsed_sections": [],
      "authorship_tag": "ABX9TyPREWlNu09JOHoeevmhvoxi"
    },
    "kernelspec": {
      "name": "python3",
      "display_name": "Python 3"
    },
    "language_info": {
      "name": "python"
    }
  },
  "cells": [
    {
      "cell_type": "markdown",
      "source": [
        "# Estudo de estatística e probabilidade"
      ],
      "metadata": {
        "id": "16O3WMkcul9w"
      }
    },
    {
      "cell_type": "markdown",
      "source": [
        "## Probabilidade e variáveis aleatórias\n",
        "\n",
        "* Escala numérica para representar a inceteza de certas afirmações\n",
        "* Expermiento aletório\n",
        "  * repedito de uma mesma maneira, porém irá resultar em diferentes resultado\n",
        "* Espaço amostral (S)\n",
        "  * conjunto de todos resultados possíveis de um experimento\n",
        "* Evento (A)\n",
        "  * um subconjunto do espaço amostral\n",
        "  * **eventos disjuntos** não ocorrem simultaneamente, intersecção vazia"
      ],
      "metadata": {
        "id": "Y7n9pJd9usgd"
      }
    },
    {
      "cell_type": "code",
      "source": [
        "from random import choice\n",
        "\n",
        "class ExperimentoDado:\n",
        "  \"\"\"Evento para simular o lançamento de um dado\"\"\"\n",
        "  def __init__(self):\n",
        "    self.S = [1, 2, 3, 4, 5, 6]\n",
        "  def rodar(self):\n",
        "    return choice(self.S)\n",
        "\n",
        "# Eventos\n",
        "#   quando face é par\n",
        "#   quando face é impar\n",
        "A = [2, 4, 6] \n",
        "B = [1, 3, 5]\n",
        "\n",
        "experimento = ExperimentoDado()\n",
        "experimento.rodar()"
      ],
      "metadata": {
        "colab": {
          "base_uri": "https://localhost:8080/"
        },
        "id": "ZvZ8ONKYkUVj",
        "outputId": "a01193ad-2881-4288-a0e1-7891098fecb8"
      },
      "execution_count": 5,
      "outputs": [
        {
          "output_type": "execute_result",
          "data": {
            "text/plain": [
              "2"
            ]
          },
          "metadata": {},
          "execution_count": 5
        }
      ]
    },
    {
      "cell_type": "markdown",
      "source": [
        "### Probabilidade clássica\n",
        "  * P(A) = Número de casos favoráveis ao evento A / Número de casos possíveis\n",
        "  * definição acima (clássica) se aplica quando os pontos do espaço amostral são equiprovaveis\n"
      ],
      "metadata": {
        "id": "QHvZt9z5934N"
      }
    },
    {
      "cell_type": "code",
      "execution_count": 8,
      "metadata": {
        "id": "hwgB2YP4uhAX",
        "colab": {
          "base_uri": "https://localhost:8080/"
        },
        "outputId": "c5e11e7d-b84e-4136-bb87-de39662f9836"
      },
      "outputs": [
        {
          "output_type": "execute_result",
          "data": {
            "text/plain": [
              "0.5"
            ]
          },
          "metadata": {},
          "execution_count": 8
        }
      ],
      "source": [
        "def probabilidade_classica(evento, experimento):\n",
        "  return len(evento)/len(experimento.S)\n",
        "\n",
        "probabilidade_classica(A, experimento)\n",
        "probabilidade_classica(B, experimento)"
      ]
    },
    {
      "cell_type": "markdown",
      "source": [
        "\n",
        "### Probabilidade e frequência relativa\n",
        "  * P(A) = Número de vezes que A ocorreu / Número total de repetições do experimento"
      ],
      "metadata": {
        "id": "Il6GtOUEnbSh"
      }
    },
    {
      "cell_type": "code",
      "source": [
        "def frequencia_relativa(repeticoes_experimento, evento):\n",
        "  nro_ocorrencias_evento = 0\n",
        "  for repeticao in repeticoes_experimento:\n",
        "    if repeticao in evento:\n",
        "      nro_ocorrencias_evento += 1\n",
        "\n",
        "  return nro_ocorrencias_evento/len(repeticoes_experimento)\n",
        "\n",
        "repeticoes_experimento = [experimento.rodar() for x in range(100)]\n",
        "frequencia_relativa(repeticoes_experimento, A)\n",
        "repeticoes_experimento = [experimento.rodar() for x in range(1000000)]\n",
        "frequencia_relativa(repeticoes_experimento, A)"
      ],
      "metadata": {
        "colab": {
          "base_uri": "https://localhost:8080/"
        },
        "id": "eXtgpQfxncMo",
        "outputId": "d694f75b-cb07-44fc-8051-b2502e9cbe24"
      },
      "execution_count": 17,
      "outputs": [
        {
          "output_type": "execute_result",
          "data": {
            "text/plain": [
              "0.500123"
            ]
          },
          "metadata": {},
          "execution_count": 17
        }
      ]
    },
    {
      "cell_type": "markdown",
      "source": [
        "\n",
        "### Aximoas da probabilidade\n",
        "  * Se A e B são eventos do espaço amostral S então\n",
        "  * 0 =< P(A) =< 1\n",
        "  * P(S) = 1\n",
        "  * Se A e B são disjuntos então, P(A união B) = P(A) + P(B)\n"
      ],
      "metadata": {
        "id": "nyD9Z0iV-AdX"
      }
    },
    {
      "cell_type": "code",
      "source": [
        "def interseccao(A, B):\n",
        "  return [elemento for elemento in A if elemento in B]\n",
        "\n",
        "def uniao(A, B):\n",
        "  return list(set(A) | set(B))\n",
        "\n",
        "pA = probabilidade_classica(A, experimento)\n",
        "pB = probabilidade_classica(B, experimento)\n",
        "pS = probabilidade_classica(experimento.S, experimento)\n",
        "pAB = probabilidade_classica(A + B, experimento)\n",
        "\n",
        "assert 0 <= pA <= 1\n",
        "assert pS == 1\n",
        "assert len(interseccao(A, B)) == 0\n",
        "assert pAB == (pA + pB)"
      ],
      "metadata": {
        "id": "ijvH7pnPppQH"
      },
      "execution_count": 26,
      "outputs": []
    },
    {
      "cell_type": "markdown",
      "source": [
        "\n",
        "### Probabilidade condicional\n",
        "  * P(A|B) = P(A intersecção B)/P(B)\n",
        "\n"
      ],
      "metadata": {
        "id": "A-zXWc-LppiR"
      }
    },
    {
      "cell_type": "code",
      "source": [
        "def probabilidade_condicional(A, B, experimento):\n",
        "  return probabilidade_classica(interseccao(A, B), experimento)/probabilidade_classica(B, experimento)\n",
        "\n",
        "C = [5]\n",
        "\n",
        "probabilidade_condicional(C, B, experimento)"
      ],
      "metadata": {
        "id": "_yFp3D3j-YiQ",
        "colab": {
          "base_uri": "https://localhost:8080/"
        },
        "outputId": "be5ef819-164f-4636-e054-4d2f361acb77"
      },
      "execution_count": 28,
      "outputs": [
        {
          "output_type": "execute_result",
          "data": {
            "text/plain": [
              "0.3333333333333333"
            ]
          },
          "metadata": {},
          "execution_count": 28
        }
      ]
    },
    {
      "cell_type": "markdown",
      "source": [
        "### ********Independência de eventos\n",
        "  * P(A|B) = P(A)"
      ],
      "metadata": {
        "id": "adqlgGXMrzY4"
      }
    },
    {
      "cell_type": "code",
      "source": [
        "a = [1, 2, 3]\n",
        "b = [2, 3, 4, 5]\n",
        "\n",
        "probabilidade_condicional(a, b, experimento)"
      ],
      "metadata": {
        "colab": {
          "base_uri": "https://localhost:8080/"
        },
        "id": "4Z4-H-xfszcW",
        "outputId": "59e43cc4-ae16-4e26-d03d-e98fd6e0d127"
      },
      "execution_count": 33,
      "outputs": [
        {
          "output_type": "execute_result",
          "data": {
            "text/plain": [
              "0.5"
            ]
          },
          "metadata": {},
          "execution_count": 33
        }
      ]
    },
    {
      "cell_type": "markdown",
      "source": [
        "### Teorema do produto\n",
        "  * P(A intersecção B) = P(A) * P(B), com A e B sendo eventos independentes\n"
      ],
      "metadata": {
        "id": "RIPQiWwhuu1X"
      }
    },
    {
      "cell_type": "code",
      "source": [
        "paib = probabilidade_classica(interseccao(a, b), experimento)\n",
        "pa = probabilidade_classica(a, experimento)\n",
        "pb = probabilidade_classica(b, experimento)\n",
        "\n",
        "assert paib == pa * pb"
      ],
      "metadata": {
        "id": "28j1RryUuvWt"
      },
      "execution_count": 37,
      "outputs": []
    },
    {
      "cell_type": "markdown",
      "source": [
        "### Teorema da soma\n",
        "  * Se A e B são disjutos, P(A união B) = P(A) + P(B)\n",
        "  * Senão, P(A união B) = P(A) + P(B) - P(A intersecção B)\n"
      ],
      "metadata": {
        "id": "oecjjTmfvOz2"
      }
    },
    {
      "cell_type": "code",
      "source": [
        "assert len(interseccao(A, B)) == 0\n",
        "assert len(interseccao(a, b)) != 0\n",
        "\n",
        "pAuB = probabilidade_classica(uniao(A, B), experimento)\n",
        "paub = probabilidade_classica(uniao(a, b), experimento)\n",
        "\n",
        "assert pAuB == (pA + pB)\n",
        "paub == (pa + pb - paib)\n",
        "# Não funciona por imprecisão do float\n",
        "#   porem: \n",
        "#     5/6 = (1/2) + (2/3) - (1/3)\n",
        "#     5/6 = (1/2) + (1/3)\n",
        "#     5/6 = (3/6) + (2/6)\n",
        "#     5/6 = (3 + 2)/6\n",
        "#     5/6 = 5/6"
      ],
      "metadata": {
        "colab": {
          "base_uri": "https://localhost:8080/"
        },
        "id": "uF2t_g88vPT2",
        "outputId": "a48b036c-04c3-4748-9295-f6447cb70f68"
      },
      "execution_count": 40,
      "outputs": [
        {
          "output_type": "execute_result",
          "data": {
            "text/plain": [
              "False"
            ]
          },
          "metadata": {},
          "execution_count": 40
        }
      ]
    },
    {
      "cell_type": "markdown",
      "source": [
        "### Outros teoremas\n",
        "  * P(vazio) = 0\n",
        "  * P(complemento A) = 1 - P(A)\n",
        "  * Se A está contido em B, P(B) >= P(A)"
      ],
      "metadata": {
        "id": "3LJrjhr6xVnV"
      }
    },
    {
      "cell_type": "code",
      "source": [
        "def complemento(A, S):\n",
        "  return [x for x in S if x not in A]\n",
        "\n",
        "def contido(A, B):\n",
        "  for elemento in A:\n",
        "    if elemento not in B:\n",
        "      return False\n",
        "  return True\n",
        "\n",
        "pcA = probabilidade_classica(complemento(A, experimento.S), experimento)\n",
        "C = [2, 4]\n",
        "pC = probabilidade_classica(C, experimento)\n",
        "\n",
        "assert probabilidade_classica([], experimento) == 0\n",
        "assert 1 - pA == pcA\n",
        "assert contido(C, A)\n",
        "assert pA >= pC"
      ],
      "metadata": {
        "id": "uu6V-YTOxWDF"
      },
      "execution_count": 47,
      "outputs": []
    },
    {
      "cell_type": "markdown",
      "source": [
        "\n",
        "## *****Teorema de Bayes\n",
        "  * Sejam A1, A2, ..., An eventos mutuamente exclusivos (não podem ocorrer ao mesmo tempo)\n",
        "  * Sejam P(Ai) as probabilidades conhecidas de vários eventos e B um evento qualquer de S tal que P(B|Ai) é conhecido\n",
        "  * P(Ai|B) = P(Ai)*P(B|Ai)/sum P(Aj)*P(B|Aj)\n",
        "  * P(B) = sum(P(Ai|B))"
      ],
      "metadata": {
        "id": "-0WJqgJ1_jBC"
      }
    },
    {
      "cell_type": "code",
      "source": [
        "def teorema_bayes(Ajs, B, i, experimento):\n",
        "  sum = 0\n",
        "  for Aj in Ajs:\n",
        "    sum += probabilidade_classica(Aj, experimento)*probabilidade_condicional(B, Aj, experimento)\n",
        "  return sum\n",
        "\n",
        "ANs = [[1], [2,3], [5]]\n",
        "teorema_bayes(ANs, B, 1, experimento)"
      ],
      "metadata": {
        "id": "PyT5A-yY_-O-",
        "colab": {
          "base_uri": "https://localhost:8080/"
        },
        "outputId": "81d05153-0de4-43cf-f783-6147c838cf74"
      },
      "execution_count": 61,
      "outputs": [
        {
          "output_type": "execute_result",
          "data": {
            "text/plain": [
              "0.5"
            ]
          },
          "metadata": {},
          "execution_count": 61
        }
      ]
    },
    {
      "cell_type": "markdown",
      "source": [
        "### Variáveis aleatórias unidimensionais discretas e contínuas\n",
        "\n",
        "* E um evento e S um espaço amostral associado\n",
        "* Uma variável aleatória (v.a.) é uma função que associa cada elemento de S a um número real\n",
        "* v.a's são geralmente reprentadas por letras maiusculas e podem ser classificadas entre discretas e contínuas\n",
        "\n",
        "### Variável aleatória discreta\n",
        "\n",
        "* Valores possíveis da v.a. são finitos ou infinito enumeraveis\n",
        "* Recebe valores inteiros"
      ],
      "metadata": {
        "id": "mdH2hAE3AQ1x"
      }
    },
    {
      "cell_type": "code",
      "source": [
        "dado = [1, 2, 3, 4, 5, 6]"
      ],
      "metadata": {
        "id": "Ghsmppx2zfKH"
      },
      "execution_count": null,
      "outputs": []
    },
    {
      "cell_type": "markdown",
      "source": [
        "### Distribuição de probabilidade\n",
        "\n",
        "* Conjuntos de todos valores possíveis para uma v.a. discreta com suas respectivas probabilidades\n"
      ],
      "metadata": {
        "id": "URmCdOra2cC6"
      }
    },
    {
      "cell_type": "code",
      "source": [
        "dist_dado = [ (x, probabilidade([x], dado)) for x in dado]"
      ],
      "metadata": {
        "id": "raRgafZN2bRO"
      },
      "execution_count": null,
      "outputs": []
    },
    {
      "cell_type": "markdown",
      "source": [
        "### Função de probabilidade\n",
        "\n",
        "* Para uma v.a. X com valores possíveis x1, x2, ..., xn a função de probabilidade é p(xi) = P(X = xi)\n"
      ],
      "metadata": {
        "id": "xnRvTg3N7Diy"
      }
    },
    {
      "cell_type": "code",
      "source": [
        "def funcao_probabilidade(va, valor):\n",
        "  return probabilidade([x], dado)"
      ],
      "metadata": {
        "id": "bCYhP0Cy7EgP"
      },
      "execution_count": null,
      "outputs": []
    },
    {
      "cell_type": "markdown",
      "source": [
        "### Função de distribuição acumulada\n",
        "\n",
        "* F(X) = P(X <= x) = sum(p(j)), j <= x\n"
      ],
      "metadata": {
        "id": "pOvdfwpM7t6T"
      }
    },
    {
      "cell_type": "code",
      "source": [
        "def funcao_probabilidade_acumulada(va, valor_superior, valor_inferior):\n",
        "  resultado = 0\n",
        "  indice_inferior = va.index(valor_inferior)\n",
        "  indice_superior = va.index(valor_superior)\n",
        "  for i in range(indice_inferior, indice_superior + 1):\n",
        "    resultado += funcao_probabilidade(va, va[i])\n",
        "  return resultado"
      ],
      "metadata": {
        "id": "3rQFsz--7uF5"
      },
      "execution_count": null,
      "outputs": []
    },
    {
      "cell_type": "markdown",
      "source": [
        "\n",
        "### Variável aleatória contínua\n",
        "\n",
        "* Um v.a. que pode assumir qualquer valor númerico em um intervalo ou coleção de intervalos\n",
        "* Pode assumir valores reais\n",
        "* X é uma v.a. contínua se existir uma função densidade de probabilidae (fdp) que segue certas condições:\n",
        "  * f(x) >= 0\n",
        "  * integral(f(x)) = 1\n",
        "  * P(a <= X <= b) = integral(f(x), b, a)"
      ],
      "metadata": {
        "id": "uxz_kYp3zfda"
      }
    },
    {
      "cell_type": "markdown",
      "source": [
        "## Esperança matemática e variância de variáveis aleatórias unidimensionais\n",
        "\n",
        "### Esperança matemática de uma v.a.\n",
        "\n",
        "* Média ou valor esperado\n",
        "* Soma de todos os produtos possíveis de uma v.a. pela respectiva probabilidade"
      ],
      "metadata": {
        "id": "rNsp2tNQxZKI"
      }
    },
    {
      "cell_type": "code",
      "source": [
        "def esperanca_va():"
      ],
      "metadata": {
        "id": "CF5AmUi7zEtQ"
      },
      "execution_count": null,
      "outputs": []
    },
    {
      "cell_type": "markdown",
      "source": [
        "* E(X) = sum(x*p(x))\n",
        "\n",
        "### Propriedades da média\n"
      ],
      "metadata": {
        "id": "sizn55pHzNRw"
      }
    },
    {
      "cell_type": "markdown",
      "source": [
        "### Referências\n",
        "\n",
        "* [Guia Estatística](https://repositorio.ufu.br/bitstream/123456789/26903/1/GUIA_ESTAT%C3%8DSTICA_2017.pdf)"
      ],
      "metadata": {
        "id": "dzzoVfFTZNBN"
      }
    }
  ]
}