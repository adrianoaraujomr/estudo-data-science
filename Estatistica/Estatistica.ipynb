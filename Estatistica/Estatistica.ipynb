{
  "nbformat": 4,
  "nbformat_minor": 0,
  "metadata": {
    "colab": {
      "name": "Estatistica.ipynb",
      "provenance": [],
      "collapsed_sections": [],
      "authorship_tag": "ABX9TyNCy9FNu9sUoce34dydCIlc"
    },
    "kernelspec": {
      "name": "python3",
      "display_name": "Python 3"
    },
    "language_info": {
      "name": "python"
    }
  },
  "cells": [
    {
      "cell_type": "markdown",
      "source": [
        "# Estudo de estatística e probabilidade"
      ],
      "metadata": {
        "id": "16O3WMkcul9w"
      }
    },
    {
      "cell_type": "markdown",
      "source": [
        "## Probabilidade e variáveis aleatórias\n",
        "\n",
        "* Escala numérica para representar a incerteza de certas afirmações\n",
        "* Experimento aleatório\n",
        "  * repetido de uma mesma maneira, porém irá resultar em diferentes resultados\n",
        "* Espaço amostral (S)\n",
        "  * conjunto de todos resultados possíveis de um experimento\n",
        "* Evento (A)\n",
        "  * um subconjunto do espaço amostral\n",
        "  * **eventos disjuntos** não ocorrem simultaneamente, intersecção vazia"
      ],
      "metadata": {
        "id": "Y7n9pJd9usgd"
      }
    },
    {
      "cell_type": "markdown",
      "source": [
        "### Probabilidade clássica\n",
        "  * P(A) = Número de casos favoráveis ao evento A / Número de casos possíveis\n",
        "  * definição acima (clássica) se aplica quando os pontos do espaço amostral são equiprovaveis\n",
        "\n",
        "### Probabilidade e frequência relativa\n",
        "  * P(A) = Número de vezes que A ocorreu / Número total de repetições do experimento\n"
      ],
      "metadata": {
        "id": "QHvZt9z5934N"
      }
    },
    {
      "cell_type": "code",
      "execution_count": null,
      "metadata": {
        "id": "hwgB2YP4uhAX"
      },
      "outputs": [],
      "source": [
        "def probabilidade(A, S):\n",
        "  return len(A)/len(S)"
      ]
    },
    {
      "cell_type": "markdown",
      "source": [
        "\n",
        "### Aximoas da probabilidade\n",
        "  * Se A e B são eventos do espaço amostral S então\n",
        "  * 0 =< P(A) =< 1\n",
        "  * P(S) = 1\n",
        "  * Se A e B são disjuntos então, P(A união B) = P(A) + P(B)\n",
        "\n",
        "### Probabilidade condicional\n",
        "  * P(A|B) = P(A intersecção B)/P(B)\n",
        "\n",
        "### Independência de eventos\n",
        "  * P(A|B) = P(A)"
      ],
      "metadata": {
        "id": "nyD9Z0iV-AdX"
      }
    },
    {
      "cell_type": "code",
      "source": [
        "def interseccao(A, B):\n",
        "  return [elemento for elemento in A if elemento in B]\n",
        "\n",
        "def uniao(A, B):\n",
        "  return list(set(A) | set(B))\n",
        "\n",
        "def probabilidade_condicional(A, B, S):\n",
        "  return probabilidade(interseccao(A, B), S)/probabilidade(B, S)"
      ],
      "metadata": {
        "id": "_yFp3D3j-YiQ"
      },
      "execution_count": null,
      "outputs": []
    },
    {
      "cell_type": "markdown",
      "source": [
        "### Teorema do produto\n",
        "  * P(A intersecção B) = P(A) * P(B), com A e B sendo eventos independentes\n",
        "\n",
        "### Teorema da soma\n",
        "  * Se A e B são disjutos, P(A união B) = P(A) + P(B)\n",
        "  * Senão, P(A união B) = P(A) + P(B) - P(A intersecção B)\n",
        "\n",
        "### Outros teoremas\n",
        "  * P(vazio) = 0\n",
        "  * P(complemento A) = 1 - P(A)\n",
        "  * Se A está contido em B, P(B) >= P(A)\n",
        "\n",
        "## Teorema de Bayes\n",
        "  * Sejam A1, A2, ..., An eventos mutuamente exclusivos (não podem ocorrer ao mesmo tempo)\n",
        "  * Sejam P(Ai) as probabilidades conhecidas de vários eventos e B um evento qualquer de S tal que P(B|Ai) é conhecido\n",
        "  * P(Ai|B) = P(Ai)*P(B|Ai)/sum P(Aj)*P(B|Aj)"
      ],
      "metadata": {
        "id": "-0WJqgJ1_jBC"
      }
    },
    {
      "cell_type": "code",
      "source": [
        "def teorema_bayes(B, i, Ajs):\n",
        "  sum = 0\n",
        "  for Aj in Ajs:\n",
        "    sum += probabilidade(Aj, S)*probabilidade_condicional(B, Aj, S)\n",
        "  return probabilidade(Ajs[i], S)*probabilidade_condicional(B, Ajs[i], S)"
      ],
      "metadata": {
        "id": "PyT5A-yY_-O-"
      },
      "execution_count": null,
      "outputs": []
    },
    {
      "cell_type": "markdown",
      "source": [
        "### Variáveis aleatórias unidimensionais discretas e contínuas"
      ],
      "metadata": {
        "id": "mdH2hAE3AQ1x"
      }
    }
  ]
}
